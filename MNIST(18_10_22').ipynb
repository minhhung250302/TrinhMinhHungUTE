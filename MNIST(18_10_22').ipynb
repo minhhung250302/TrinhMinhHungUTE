{
  "nbformat": 4,
  "nbformat_minor": 0,
  "metadata": {
    "colab": {
      "provenance": [],
      "authorship_tag": "ABX9TyOROQaGHqQp1/vZ2ythi8KC",
      "include_colab_link": true
    },
    "kernelspec": {
      "name": "python3",
      "display_name": "Python 3"
    },
    "language_info": {
      "name": "python"
    }
  },
  "cells": [
    {
      "cell_type": "markdown",
      "metadata": {
        "id": "view-in-github",
        "colab_type": "text"
      },
      "source": [
        "<a href=\"https://colab.research.google.com/github/minhhung250302/TrinhMinhHungUTE/blob/main/MNIST(18_10_22').ipynb\" target=\"_parent\"><img src=\"https://colab.research.google.com/assets/colab-badge.svg\" alt=\"Open In Colab\"/></a>"
      ]
    },
    {
      "cell_type": "code",
      "source": [
        "pip install keras"
      ],
      "metadata": {
        "colab": {
          "base_uri": "https://localhost:8080/"
        },
        "id": "_zmTE-D8EoPG",
        "outputId": "a985eafa-f5f8-420c-bec6-af20efca6e93"
      },
      "execution_count": null,
      "outputs": [
        {
          "output_type": "stream",
          "name": "stdout",
          "text": [
            "Looking in indexes: https://pypi.org/simple, https://us-python.pkg.dev/colab-wheels/public/simple/\n",
            "Requirement already satisfied: keras in /usr/local/lib/python3.7/dist-packages (2.9.0)\n"
          ]
        }
      ]
    },
    {
      "cell_type": "code",
      "execution_count": null,
      "metadata": {
        "colab": {
          "base_uri": "https://localhost:8080/"
        },
        "id": "e03OCRnS1nyR",
        "outputId": "199cb3eb-645a-4674-8ff7-83da685519f7"
      },
      "outputs": [
        {
          "output_type": "execute_result",
          "data": {
            "text/plain": [
              "(10000, 28, 28)"
            ]
          },
          "metadata": {},
          "execution_count": 35
        }
      ],
      "source": [
        "from keras.datasets import mnist\n",
        "(train_images,train_labels),(test_images,test_labels)= mnist.load_data()\n",
        "test_images.shape\n",
        "train_images.shape \n",
        "train_labels.shape\n",
        "test_labels.shape\n"
      ]
    },
    {
      "cell_type": "code",
      "source": [
        "import matplotlib.pyplot as plt\n",
        "plt.imshow(train_images[1201])\n",
        "plt.show()"
      ],
      "metadata": {
        "colab": {
          "base_uri": "https://localhost:8080/",
          "height": 265
        },
        "id": "v32GxrVs4QZJ",
        "outputId": "984f6af2-41dc-4b69-fea9-e0700f60ffa4"
      },
      "execution_count": null,
      "outputs": [
        {
          "output_type": "display_data",
          "data": {
            "text/plain": [
              "<Figure size 432x288 with 1 Axes>"
            ],
            "image/png": "[encoded data removed]"
          },
          "metadata": {
            "needs_background": "light"
          }
        }
      ]
    },
    {
      "cell_type": "code",
      "source": [
        "import matplotlib.pyplot as plt\n",
        "plt.imshow(train_images[1201])\n",
        "plt.show()\n",
        "print(train_labels[1201])"
      ],
      "metadata": {
        "colab": {
          "base_uri": "https://localhost:8080/",
          "height": 283
        },
        "id": "-8wYXS3u4zQu",
        "outputId": "8a651e1f-b3c6-4e73-a0f2-83d6db9e8253"
      },
      "execution_count": null,
      "outputs": [
        {
          "output_type": "display_data",
          "data": {
            "text/plain": [
              "<Figure size 432x288 with 1 Axes>"
            ],
            "image/png": "[encoded data removed]"
          },
          "metadata": {
            "needs_background": "light"
          }
        },
        {
          "output_type": "stream",
          "name": "stdout",
          "text": [
            "3\n"
          ]
        }
      ]
    },
    {
      "cell_type": "markdown",
      "source": [
        "relu: bảng chỉnh lu tuyến tính\n",
        "tin hieu vao cua lop sau bang tin hieu ra cua lop truoc\n"
      ],
      "metadata": {
        "id": "nGPWA5wo7A4P"
      }
    },
    {
      "cell_type": "code",
      "source": [
        "\n",
        "from keras.datasets import mnist\n",
        "(train_images, train_labels),(test_images,test_labels)= mnist.load_data()\n",
        "train_images.shape \n",
        "from keras import models\n",
        "from keras import layers\n",
        "model=models.Sequential() \n",
        "model.add(layers.Dense(512, activation='relu', input_shape=(28*28,)))\n",
        "model.add(layers.Dense(10, activation='softmax'))\n",
        "model.summary()\n"
      ],
      "metadata": {
        "id": "K06oG17w_RA4"
      },
      "execution_count": null,
      "outputs": []
    },
    {
      "cell_type": "code",
      "source": [
        "train_images = train_images.reshape(60000,28*28)\n",
        "train_images= train_images.astype('float32')/255\n",
        "test_images = test_images.reshape(10000,28*28)\n",
        "test_images= test_images.astype('float32')/255\n",
        "print('a',train_images.shape)\n",
        "print('b',test_images.shape)"
      ],
      "metadata": {
        "colab": {
          "base_uri": "https://localhost:8080/"
        },
        "id": "j5C23mag89AP",
        "outputId": "dcf6461d-5856-4696-8e07-f0bb6d885404"
      },
      "execution_count": null,
      "outputs": [
        {
          "output_type": "stream",
          "name": "stdout",
          "text": [
            "a (60000, 784)\n",
            "b (10000, 784)\n"
          ]
        }
      ]
    },
    {
      "cell_type": "code",
      "source": [
        "from keras.utils import to_categorical\n",
        "train_labels = to_categorical(train_labels)\n",
        "test_labels = to_categorical(test_labels)\n",
        "print('a',train_labels.shape)\n",
        "print('b',test_labels.shape)\n"
      ],
      "metadata": {
        "id": "zM4e0NEC_ejH"
      },
      "execution_count": null,
      "outputs": []
    },
    {
      "cell_type": "code",
      "source": [
        "from keras.metrics import metrics\n",
        "model.compile(optimizer='rmsprop',loss='categorical_crossentropy',metrics=['accuracy'])\n",
        "model.fit(train_images,train_labels,epochs=100,batch_size=128)\n",
        "#sai"
      ],
      "metadata": {
        "id": "ZFMIIwMuCgiL"
      },
      "execution_count": null,
      "outputs": []
    },
    {
      "cell_type": "code",
      "source": [
        "test_loss,test_acc = model.evaluate(test_images,test_labels)\n",
        "print('Test accuracy',test_acc)"
      ],
      "metadata": {
        "id": "jZyFx6X8FgPN"
      },
      "execution_count": null,
      "outputs": []
    },
    {
      "cell_type": "code",
      "source": [
        "rom tensorflow.python.ops.gen_array_ops import reshape\n",
        "from keras.utils import load_img, img_to_array\n",
        "import matplotlib.pyplot as plt\n",
        "import numpy as np\n",
        "url = '/content/8.jfif'\n",
        "img = load_img(url, target_size=(28,28))\n",
        "plt.imshow(img)\n",
        "img = img_to_array(img)\n",
        "img = img.reshape(1,28,28,3)\n",
        "img = img.astype('float32')\n",
        "img = img/255"
      ],
      "metadata": {
        "id": "LNFfIj_wZnDA"
      },
      "execution_count": null,
      "outputs": []
    }
  ]
}