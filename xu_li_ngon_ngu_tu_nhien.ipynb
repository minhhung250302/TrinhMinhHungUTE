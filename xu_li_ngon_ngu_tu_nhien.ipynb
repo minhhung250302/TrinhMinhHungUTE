{
  "nbformat": 4,
  "nbformat_minor": 0,
  "metadata": {
    "colab": {
      "provenance": [],
      "authorship_tag": "ABX9TyNBo6WV9n4BfUwM1vpnWcSI",
      "include_colab_link": true
    },
    "kernelspec": {
      "name": "python3",
      "display_name": "Python 3"
    },
    "language_info": {
      "name": "python"
    },
    "accelerator": "GPU",
    "gpuClass": "standard"
  },
  "cells": [
    {
      "cell_type": "markdown",
      "metadata": {
        "id": "view-in-github",
        "colab_type": "text"
      },
      "source": [
        "<a href=\"https://colab.research.google.com/github/minhhung250302/TrinhMinhHungUTE/blob/main/xu_li_ngon_ngu_tu_nhien.ipynb\" target=\"_parent\"><img src=\"https://colab.research.google.com/assets/colab-badge.svg\" alt=\"Open In Colab\"/></a>"
      ]
    },
    {
      "cell_type": "code",
      "source": [
        "pip install youtube_search"
      ],
      "metadata": {
        "colab": {
          "base_uri": "https://localhost:8080/"
        },
        "id": "234rz451IBEi",
        "outputId": "c04dbc31-79f7-4aa9-dc7e-a0de4f3d77ec"
      },
      "execution_count": null,
      "outputs": [
        {
          "output_type": "stream",
          "name": "stdout",
          "text": [
            "Looking in indexes: https://pypi.org/simple, https://us-python.pkg.dev/colab-wheels/public/simple/\n",
            "Requirement already satisfied: youtube_search in /usr/local/lib/python3.7/dist-packages (2.1.2)\n",
            "Requirement already satisfied: requests in /usr/local/lib/python3.7/dist-packages (from youtube_search) (2.23.0)\n",
            "Requirement already satisfied: urllib3!=1.25.0,!=1.25.1,<1.26,>=1.21.1 in /usr/local/lib/python3.7/dist-packages (from requests->youtube_search) (1.24.3)\n",
            "Requirement already satisfied: idna<3,>=2.5 in /usr/local/lib/python3.7/dist-packages (from requests->youtube_search) (2.10)\n",
            "Requirement already satisfied: chardet<4,>=3.0.2 in /usr/local/lib/python3.7/dist-packages (from requests->youtube_search) (3.0.4)\n",
            "Requirement already satisfied: certifi>=2017.4.17 in /usr/local/lib/python3.7/dist-packages (from requests->youtube_search) (2022.9.24)\n"
          ]
        }
      ]
    },
    {
      "cell_type": "code",
      "source": [
        "from youtube_search import YoutubeSearch\n",
        "import webbrowser"
      ],
      "metadata": {
        "id": "yzTad7ZBII2d"
      },
      "execution_count": null,
      "outputs": []
    },
    {
      "cell_type": "code",
      "source": [
        "mysong = input('Xin moi ban chon bai hat:')\n",
        "print(mysong)\n",
        "result = YoutubeSearch(mysong,max_results=10).to_dict()\n",
        "print(result)\n",
        "print(result[0]['url_suffix'])\n",
        "url = 'http://youtube.com'+ result[0]['url_suffix']\n",
        "print(url)\n",
        "webbrowser.open(url)\n",
        "print('bai hat duoc yeu cau la')"
      ],
      "metadata": {
        "colab": {
          "base_uri": "https://localhost:8080/"
        },
        "id": "EYsJNZJCIioW",
        "outputId": "649a4ce4-2549-4448-8a41-97fdee04f1d5"
      },
      "execution_count": null,
      "outputs": [
        {
          "output_type": "stream",
          "name": "stdout",
          "text": [
            "Xin moi ban chon bai hat:3107-1\n",
            "3107-1\n",
            "[{'id': 'GatNL0mmQGc', 'thumbnails': ['https://i.ytimg.com/vi/GatNL0mmQGc/hq720.jpg?sqp=-oaymwE9COgCEMoBSFryq4qpAy8IARUAAAAAGAElAADIQj0AgKJDeAHwAQH4AdYEgALgA4oCDAgAEAEYaCBoKGgwDw==&rs=AOn4CLAcdWjC4DhOGVvM2BBGNAqFCi2elg', 'https://i.ytimg.com/vi/GatNL0mmQGc/hq720.jpg?sqp=-oaymwExCNAFEJQDSFryq4qpAyMIARUAAIhCGAHwAQH4AdYEgALgA4oCDAgAEAEYaCBoKGgwDw==&rs=AOn4CLAOUgnKMIyeInHro7W9sB2qMq0blQ'], 'title': 'W/n - ‘3107’ full album| ft. ( titie, Nâu ,Dươngg )', 'long_desc': None, 'channel': 'W/n', 'duration': '12:18', 'views': '46.209.601 weergaven', 'publish_time': '1 jaar geleden', 'url_suffix': '/watch?v=GatNL0mmQGc'}, {'id': 'V5GS5ANG96M', 'thumbnails': ['https://i.ytimg.com/vi/V5GS5ANG96M/hq720.jpg?sqp=-oaymwEjCOgCEMoBSFryq4qpAxUIARUAAAAAGAElAADIQj0AgKJDeAE=&rs=AOn4CLB0rhyJ7coHQvnmuZRsh3cZJObi1A', 'https://i.ytimg.com/vi/V5GS5ANG96M/hq720.jpg?sqp=-oaymwEXCNAFEJQDSFryq4qpAwkIARUAAIhCGAE=&rs=AOn4CLDlM8jZ0UWxboIHhG1zRYNzvW95Jw'], 'title': 'W/n - 3107 ( Official Video ) ft. Nâu, Duongg', 'long_desc': None, 'channel': 'W/n', 'duration': '3:53', 'views': '65.333.354 weergaven', 'publish_time': '2 jaar geleden', 'url_suffix': '/watch?v=V5GS5ANG96M'}, {'id': 'jipa0L_Tvd8', 'thumbnails': ['https://i.ytimg.com/vi/jipa0L_Tvd8/hq720.jpg?sqp=-oaymwEjCOgCEMoBSFryq4qpAxUIARUAAAAAGAElAADIQj0AgKJDeAE=&rs=AOn4CLBb7V1Th7P82QOYacnMRZ4qQKMRBg', 'https://i.ytimg.com/vi/jipa0L_Tvd8/hq720.jpg?sqp=-oaymwEXCNAFEJQDSFryq4qpAwkIARUAAIhCGAE=&rs=AOn4CLAgpiF_ke5I46tHmcB8uOimvsAr9A'], 'title': 'Full Album 3107 - 1,2,3,4 -', 'long_desc': None, 'channel': 'Lowkey', 'duration': '15:51', 'views': '1.167.881 weergaven', 'publish_time': '3 maanden geleden', 'url_suffix': '/watch?v=jipa0L_Tvd8'}, {'id': 'xgffpvxLgQs', 'thumbnails': ['https://i.ytimg.com/vi/xgffpvxLgQs/hqdefault.jpg?sqp=-oaymwEjCOADEI4CSFryq4qpAxUIARUAAAAAGAElAADIQj0AgKJDeAE=&rs=AOn4CLDI1XFyW9qkufo9iwmoog6uWDn7gQ'], 'title': '3107 (1 2 3 4 7) full album (W/n x DuongG, Nâu, Titie, Erik)', 'long_desc': None, 'channel': 'Chu Vy', 'duration': '18:24', 'views': '479.642 weergaven', 'publish_time': '1 maand geleden', 'url_suffix': '/watch?v=xgffpvxLgQs'}, {'id': 'vytVFbZh8vg', 'thumbnails': ['https://i.ytimg.com/vi/vytVFbZh8vg/hqdefault.jpg?sqp=-oaymwE9COADEI4CSFryq4qpAy8IARUAAAAAGAElAADIQj0AgKJDeAHwAQH4AcIHgALQBYoCDAgAEAEYfyA-KCIwDw==&rs=AOn4CLDXdoliCMG1fQU9wfnSCwszTpI0Eg'], 'title': '3107 Full album 1-2-3 1hour | W/n ft. Dươngg, Nâu, Titie', 'long_desc': None, 'channel': 'LH Music', 'duration': '1:01:13', 'views': '734 weergaven', 'publish_time': '2 maanden geleden', 'url_suffix': '/watch?v=vytVFbZh8vg'}, {'id': 'gy9FsWtmOWg', 'thumbnails': ['https://i.ytimg.com/vi/gy9FsWtmOWg/hq720.jpg?sqp=-oaymwE9COgCEMoBSFryq4qpAy8IARUAAAAAGAElAADIQj0AgKJDeAHwAQH4Af4JgALQBYoCDAgAEAEYZSBlKGUwDw==&rs=AOn4CLAsYoa5URHNy-fjUgnYedq2hd9fPw', 'https://i.ytimg.com/vi/gy9FsWtmOWg/hq720.jpg?sqp=-oaymwExCNAFEJQDSFryq4qpAyMIARUAAIhCGAHwAQH4Af4JgALQBYoCDAgAEAEYZSBlKGUwDw==&rs=AOn4CLCizehjV8IjSNftqO5QxBoQqi-7bQ'], 'title': '3107 Full -1 2 3 4 -31077 W/n x DuongG, Nâu , Titie, Erik | Nhạc Lofi, Chill ❤️', 'long_desc': None, 'channel': 'P-K', 'duration': '18:26', 'views': '1.233.214 weergaven', 'publish_time': '3 maanden geleden', 'url_suffix': '/watch?v=gy9FsWtmOWg'}, {'id': 'LoablAsGPYQ', 'thumbnails': ['https://i.ytimg.com/vi/LoablAsGPYQ/hq720.jpg?sqp=-oaymwEjCOgCEMoBSFryq4qpAxUIARUAAAAAGAElAADIQj0AgKJDeAE=&rs=AOn4CLB2You27eXL67QcXK4h2zPGiem5vQ', 'https://i.ytimg.com/vi/LoablAsGPYQ/hq720.jpg?sqp=-oaymwEXCNAFEJQDSFryq4qpAwkIARUAAIhCGAE=&rs=AOn4CLA13Tbw62nTwTckYjQxl8arPmXGlw'], 'title': '3 1 0 7 [ 1 Hour ] - Duongg x Nâu - 1 Hour Chill Music', 'long_desc': None, 'channel': 'Chill With Fly', 'duration': '1:02:05', 'views': '236.658 weergaven', 'publish_time': '2 jaar geleden', 'url_suffix': '/watch?v=LoablAsGPYQ'}, {'id': 'VvrXfUgjTbY', 'thumbnails': ['https://i.ytimg.com/vi/VvrXfUgjTbY/hq720.jpg?sqp=-oaymwE9COgCEMoBSFryq4qpAy8IARUAAAAAGAElAADIQj0AgKJDeAHwAQH4Af4JgALQBYoCDAgAEAEYOCBIKHIwDw==&rs=AOn4CLCV5Q4jq6rzV8_AjTrJBSIwz1dXkg', 'https://i.ytimg.com/vi/VvrXfUgjTbY/hq720.jpg?sqp=-oaymwExCNAFEJQDSFryq4qpAyMIARUAAIhCGAHwAQH4Af4JgALQBYoCDAgAEAEYOCBIKHIwDw==&rs=AOn4CLA5C2YKaVb1CxT-VkpzxQiz9kPe6g'], 'title': '3107|KARAOKE', 'long_desc': None, 'channel': 'KARAOKE', 'duration': '2:46', 'views': '165.747 weergaven', 'publish_time': '9 maanden geleden', 'url_suffix': '/watch?v=VvrXfUgjTbY'}, {'id': 'Mt-okvGZm2g', 'thumbnails': ['https://i.ytimg.com/vi/Mt-okvGZm2g/hq720.jpg?sqp=-oaymwE9COgCEMoBSFryq4qpAy8IARUAAAAAGAElAADIQj0AgKJDeAHwAQH4AbIDgALgA4oCDAgAEAEYZSBcKFYwDw==&rs=AOn4CLA_Nw3lOQs_c4ts7Dea-MDzyiS-3Q', 'https://i.ytimg.com/vi/Mt-okvGZm2g/hq720.jpg?sqp=-oaymwExCNAFEJQDSFryq4qpAyMIARUAAIhCGAHwAQH4AbIDgALgA4oCDAgAEAEYZSBcKFYwDw==&rs=AOn4CLBBiFTpkZV2RkXlch2iZOb9pZg2WQ'], 'title': '3107 1 2 3 - W/n ft nâu,titie live', 'long_desc': None, 'channel': 'nâu', 'duration': '4:46', 'views': '1.536.617 weergaven', 'publish_time': '1 jaar geleden', 'url_suffix': '/watch?v=Mt-okvGZm2g'}, {'id': 'HoVYSnOBHIE', 'thumbnails': ['https://i.ytimg.com/vi/HoVYSnOBHIE/hq720.jpg?sqp=-oaymwEjCOgCEMoBSFryq4qpAxUIARUAAAAAGAElAADIQj0AgKJDeAE=&rs=AOn4CLBEXJImYSJ9Afj8V_8mPIplrPxVmg', 'https://i.ytimg.com/vi/HoVYSnOBHIE/hq720.jpg?sqp=-oaymwEXCNAFEJQDSFryq4qpAwkIARUAAIhCGAE=&rs=AOn4CLCNQK9ZwABQVZ0qejMtiPLPWuQVnw'], 'title': '3 1 0 7 - W/n x Duongg x Nâu 「Lyrics Video」Meens', 'long_desc': None, 'channel': 'Meens', 'duration': '3:53', 'views': '8.653.896 weergaven', 'publish_time': '2 jaar geleden', 'url_suffix': '/watch?v=HoVYSnOBHIE'}]\n",
            "/watch?v=GatNL0mmQGc\n",
            "http://youtube.com/watch?v=GatNL0mmQGc\n",
            "bai hat duoc yeu cau la\n"
          ]
        }
      ]
    },
    {
      "cell_type": "code",
      "source": [
        "pip install SpeechRecognition "
      ],
      "metadata": {
        "colab": {
          "base_uri": "https://localhost:8080/"
        },
        "id": "QlTXgevuNZUF",
        "outputId": "c25b3bed-b386-4e1a-d858-03898e547345"
      },
      "execution_count": null,
      "outputs": [
        {
          "output_type": "stream",
          "name": "stdout",
          "text": [
            "Looking in indexes: https://pypi.org/simple, https://us-python.pkg.dev/colab-wheels/public/simple/\n",
            "Collecting SpeechRecognition\n",
            "  Downloading SpeechRecognition-3.8.1-py2.py3-none-any.whl (32.8 MB)\n",
            "\u001b[K     |████████████████████████████████| 32.8 MB 1.3 MB/s \n",
            "\u001b[?25hInstalling collected packages: SpeechRecognition\n",
            "Successfully installed SpeechRecognition-3.8.1\n"
          ]
        }
      ]
    },
    {
      "cell_type": "code",
      "source": [
        "pip install google-speech"
      ],
      "metadata": {
        "colab": {
          "base_uri": "https://localhost:8080/"
        },
        "id": "-ktrchRbOBBK",
        "outputId": "66e8ef1a-9f8e-49b6-e4e6-66f618e3af28"
      },
      "execution_count": null,
      "outputs": [
        {
          "output_type": "stream",
          "name": "stdout",
          "text": [
            "Looking in indexes: https://pypi.org/simple, https://us-python.pkg.dev/colab-wheels/public/simple/\n",
            "Collecting google-speech\n",
            "  Downloading google_speech-1.1.0.tar.gz (17 kB)\n",
            "Requirement already satisfied: appdirs>=1.4.0 in /usr/local/lib/python3.7/dist-packages (from google-speech) (1.4.4)\n",
            "Requirement already satisfied: requests>=2.6.0 in /usr/local/lib/python3.7/dist-packages (from google-speech) (2.23.0)\n",
            "Collecting web_cache>=1.1.0\n",
            "  Downloading web_cache-1.1.0.tar.gz (16 kB)\n",
            "Requirement already satisfied: chardet<4,>=3.0.2 in /usr/local/lib/python3.7/dist-packages (from requests>=2.6.0->google-speech) (3.0.4)\n",
            "Requirement already satisfied: idna<3,>=2.5 in /usr/local/lib/python3.7/dist-packages (from requests>=2.6.0->google-speech) (2.10)\n",
            "Requirement already satisfied: certifi>=2017.4.17 in /usr/local/lib/python3.7/dist-packages (from requests>=2.6.0->google-speech) (2022.9.24)\n",
            "Requirement already satisfied: urllib3!=1.25.0,!=1.25.1,<1.26,>=1.21.1 in /usr/local/lib/python3.7/dist-packages (from requests>=2.6.0->google-speech) (1.24.3)\n",
            "Building wheels for collected packages: google-speech, web-cache\n",
            "  Building wheel for google-speech (setup.py) ... \u001b[?25l\u001b[?25hdone\n",
            "  Created wheel for google-speech: filename=google_speech-1.1.0-py3-none-any.whl size=18147 sha256=19e1ee70b9f5cc995c962509924f92b367b3809cfe68d10cdf31d6ef587fa790\n",
            "  Stored in directory: /root/.cache/pip/wheels/9d/86/e5/169ddb04ffeadd79a9710db57d2dc3814f72194d285a6716d6\n",
            "  Building wheel for web-cache (setup.py) ... \u001b[?25l\u001b[?25hdone\n",
            "  Created wheel for web-cache: filename=web_cache-1.1.0-py3-none-any.whl size=15449 sha256=ce515eb3b5befc5fee69f485521b2296c3244ae6165be4605f2ac14305d72a0a\n",
            "  Stored in directory: /root/.cache/pip/wheels/92/76/40/7d36adc694f653bb46ea432a7c9e3156db2efdb0b4727bb81d\n",
            "Successfully built google-speech web-cache\n",
            "Installing collected packages: web-cache, google-speech\n",
            "Successfully installed google-speech-1.1.0 web-cache-1.1.0\n"
          ]
        }
      ]
    },
    {
      "cell_type": "markdown",
      "source": [
        "ko - hàn\n",
        "hi - chữ hindu \n",
        "ja - Nhật\n",
        "zh - trung quốc\n",
        "fr - pháp\n",
        "de - đức "
      ],
      "metadata": {
        "id": "b-9BCXqnUzhN"
      }
    },
    {
      "cell_type": "code",
      "source": [
        "filename='/content/audio.wav'\n",
        "import speech_recognition as sr\n",
        "r = sr.Recognizer()\n",
        "with sr.AudioFile(filename) as source:\n",
        "  audio_data = r.record(source,offset=2, duration = 30)\n",
        "text = r.recognize_google(audio_data)\n",
        "print(text)"
      ],
      "metadata": {
        "colab": {
          "base_uri": "https://localhost:8080/"
        },
        "id": "1rXWxMNCUmHw",
        "outputId": "a9c68fa2-51b4-4605-b632-7959fbe25085"
      },
      "execution_count": null,
      "outputs": [
        {
          "output_type": "stream",
          "name": "stdout",
          "text": [
            "you deserve to be loved even if you don't have skinny legs long silky hair I'll perfect it you are the kids that got give for your parents or you girls appeared to make this life more delightful you are beautiful at the way you are with a strong my the sensitive and quite so without you the world interest logic\n"
          ]
        }
      ]
    },
    {
      "cell_type": "code",
      "source": [
        "filename='/content/chill.wav'\n",
        "import speech_recognition as sr\n",
        "r = sr.Recognizer()\n",
        "with sr.AudioFile(filename) as source:\n",
        "  audio_data = r.record(source,offset=2, duration = 30)\n",
        "text = r.recognize_google(audio_data,language='vi')\n",
        "print(text)"
      ],
      "metadata": {
        "colab": {
          "base_uri": "https://localhost:8080/",
          "height": 353
        },
        "id": "mH2anHAlYVI7",
        "outputId": "5a1f6f3b-d8e7-4ae1-fff1-1ee900c4fc85"
      },
      "execution_count": null,
      "outputs": [
        {
          "output_type": "error",
          "ename": "UnknownValueError",
          "evalue": "ignored",
          "traceback": [
            "\u001b[0;31m---------------------------------------------------------------------------\u001b[0m",
            "\u001b[0;31mUnknownValueError\u001b[0m                         Traceback (most recent call last)",
            "\u001b[0;32m<ipython-input-72-5a7288d404cc>\u001b[0m in \u001b[0;36m<module>\u001b[0;34m\u001b[0m\n\u001b[1;32m      4\u001b[0m \u001b[0;32mwith\u001b[0m \u001b[0msr\u001b[0m\u001b[0;34m.\u001b[0m\u001b[0mAudioFile\u001b[0m\u001b[0;34m(\u001b[0m\u001b[0mfilename\u001b[0m\u001b[0;34m)\u001b[0m \u001b[0;32mas\u001b[0m \u001b[0msource\u001b[0m\u001b[0;34m:\u001b[0m\u001b[0;34m\u001b[0m\u001b[0;34m\u001b[0m\u001b[0m\n\u001b[1;32m      5\u001b[0m   \u001b[0maudio_data\u001b[0m \u001b[0;34m=\u001b[0m \u001b[0mr\u001b[0m\u001b[0;34m.\u001b[0m\u001b[0mrecord\u001b[0m\u001b[0;34m(\u001b[0m\u001b[0msource\u001b[0m\u001b[0;34m,\u001b[0m\u001b[0moffset\u001b[0m\u001b[0;34m=\u001b[0m\u001b[0;36m2\u001b[0m\u001b[0;34m,\u001b[0m \u001b[0mduration\u001b[0m \u001b[0;34m=\u001b[0m \u001b[0;36m30\u001b[0m\u001b[0;34m)\u001b[0m\u001b[0;34m\u001b[0m\u001b[0;34m\u001b[0m\u001b[0m\n\u001b[0;32m----> 6\u001b[0;31m \u001b[0mtext\u001b[0m \u001b[0;34m=\u001b[0m \u001b[0mr\u001b[0m\u001b[0;34m.\u001b[0m\u001b[0mrecognize_google\u001b[0m\u001b[0;34m(\u001b[0m\u001b[0maudio_data\u001b[0m\u001b[0;34m,\u001b[0m\u001b[0mlanguage\u001b[0m\u001b[0;34m=\u001b[0m\u001b[0;34m'vi'\u001b[0m\u001b[0;34m)\u001b[0m\u001b[0;34m\u001b[0m\u001b[0;34m\u001b[0m\u001b[0m\n\u001b[0m\u001b[1;32m      7\u001b[0m \u001b[0mprint\u001b[0m\u001b[0;34m(\u001b[0m\u001b[0mtext\u001b[0m\u001b[0;34m)\u001b[0m\u001b[0;34m\u001b[0m\u001b[0;34m\u001b[0m\u001b[0m\n",
            "\u001b[0;32m/usr/local/lib/python3.7/dist-packages/speech_recognition/__init__.py\u001b[0m in \u001b[0;36mrecognize_google\u001b[0;34m(self, audio_data, key, language, show_all)\u001b[0m\n\u001b[1;32m    856\u001b[0m         \u001b[0;31m# return results\u001b[0m\u001b[0;34m\u001b[0m\u001b[0;34m\u001b[0m\u001b[0;34m\u001b[0m\u001b[0m\n\u001b[1;32m    857\u001b[0m         \u001b[0;32mif\u001b[0m \u001b[0mshow_all\u001b[0m\u001b[0;34m:\u001b[0m \u001b[0;32mreturn\u001b[0m \u001b[0mactual_result\u001b[0m\u001b[0;34m\u001b[0m\u001b[0;34m\u001b[0m\u001b[0m\n\u001b[0;32m--> 858\u001b[0;31m         \u001b[0;32mif\u001b[0m \u001b[0;32mnot\u001b[0m \u001b[0misinstance\u001b[0m\u001b[0;34m(\u001b[0m\u001b[0mactual_result\u001b[0m\u001b[0;34m,\u001b[0m \u001b[0mdict\u001b[0m\u001b[0;34m)\u001b[0m \u001b[0;32mor\u001b[0m \u001b[0mlen\u001b[0m\u001b[0;34m(\u001b[0m\u001b[0mactual_result\u001b[0m\u001b[0;34m.\u001b[0m\u001b[0mget\u001b[0m\u001b[0;34m(\u001b[0m\u001b[0;34m\"alternative\"\u001b[0m\u001b[0;34m,\u001b[0m \u001b[0;34m[\u001b[0m\u001b[0;34m]\u001b[0m\u001b[0;34m)\u001b[0m\u001b[0;34m)\u001b[0m \u001b[0;34m==\u001b[0m \u001b[0;36m0\u001b[0m\u001b[0;34m:\u001b[0m \u001b[0;32mraise\u001b[0m \u001b[0mUnknownValueError\u001b[0m\u001b[0;34m(\u001b[0m\u001b[0;34m)\u001b[0m\u001b[0;34m\u001b[0m\u001b[0;34m\u001b[0m\u001b[0m\n\u001b[0m\u001b[1;32m    859\u001b[0m \u001b[0;34m\u001b[0m\u001b[0m\n\u001b[1;32m    860\u001b[0m         \u001b[0;32mif\u001b[0m \u001b[0;34m\"confidence\"\u001b[0m \u001b[0;32min\u001b[0m \u001b[0mactual_result\u001b[0m\u001b[0;34m[\u001b[0m\u001b[0;34m\"alternative\"\u001b[0m\u001b[0;34m]\u001b[0m\u001b[0;34m:\u001b[0m\u001b[0;34m\u001b[0m\u001b[0;34m\u001b[0m\u001b[0m\n",
            "\u001b[0;31mUnknownValueError\u001b[0m: "
          ]
        }
      ]
    },
    {
      "cell_type": "code",
      "source": [
        "pip install playsound"
      ],
      "metadata": {
        "id": "l0JqWPIuZmW3"
      },
      "execution_count": null,
      "outputs": []
    },
    {
      "cell_type": "code",
      "source": [
        "pip install gTTS\n"
      ],
      "metadata": {
        "id": "RYRnaHjqZ-qe"
      },
      "execution_count": null,
      "outputs": []
    },
    {
      "cell_type": "code",
      "source": [
        "from gtts.tts import gTTS\n",
        "from playsound import playsound\n",
        "import speech_recognition as sr\n",
        "from gtts import gTTS\n",
        "import os\n",
        "A = 'はじめまして , はじめまして'\n",
        "speak = gTTS(text=A, lang ='ja',slow=False )\n",
        "speak.save('test2test2.mp3')\n",
        "#playsound('test.mp3')\n",
        "#os.remove('test.mp3')\n",
        "print(text)"
      ],
      "metadata": {
        "id": "LJDTeJDZaEqt"
      },
      "execution_count": null,
      "outputs": []
    },
    {
      "cell_type": "code",
      "source": [
        "pip install googletrans==3.1.0a0"
      ],
      "metadata": {
        "id": "UxN6Xmy1fL2q"
      },
      "execution_count": null,
      "outputs": []
    },
    {
      "cell_type": "code",
      "source": [
        "from googletrans import Translator\n",
        "translator = Translator()\n",
        "translation = translator.translate('Và anh không cần gì ngoài em',dest='en')\n",
        "print(translation.text)"
      ],
      "metadata": {
        "colab": {
          "base_uri": "https://localhost:8080/"
        },
        "id": "qWwB0WG1gQh-",
        "outputId": "ef99252a-f484-48cb-cbe1-76e2bcdd982e"
      },
      "execution_count": null,
      "outputs": [
        {
          "output_type": "stream",
          "name": "stdout",
          "text": [
            "And I need nothing but you\n"
          ]
        }
      ]
    },
    {
      "cell_type": "code",
      "source": [
        "from googletrans import Translator\n",
        "translator = Translator()\n",
        "translation = translator.translate('/content/chill.wav',dest='en')\n",
        "print(translation.pronunciation)\n",
        "speak = gTTS(text=translation.pronunciation, lang ='en',slow=False )\n",
        "speak.save('test2.mp3')"
      ],
      "metadata": {
        "id": "SiQJHyUThRdW"
      },
      "execution_count": null,
      "outputs": []
    },
    {
      "cell_type": "code",
      "source": [],
      "metadata": {
        "id": "n9d85rWOl77S"
      },
      "execution_count": null,
      "outputs": []
    },
    {
      "cell_type": "code",
      "source": [],
      "metadata": {
        "id": "Y3VqEJgFl7yM"
      },
      "execution_count": null,
      "outputs": []
    },
    {
      "cell_type": "code",
      "source": [],
      "metadata": {
        "id": "FDMGxiuFl7st"
      },
      "execution_count": null,
      "outputs": []
    },
    {
      "cell_type": "code",
      "source": [
        "from googletrans import Translator\n",
        "translator = Translator()"
      ],
      "metadata": {
        "id": "xdCiMtNMjvvh"
      },
      "execution_count": null,
      "outputs": []
    },
    {
      "cell_type": "code",
      "source": [
        "from googletrans import Translator\n",
        "translator = Translator()\n",
        "detection = translator.detect('English')\n",
        "print('Language code',detection.lang)\n",
        "print('Confidence',detection.confidence)"
      ],
      "metadata": {
        "colab": {
          "base_uri": "https://localhost:8080/"
        },
        "id": "iYWCGJYikxUx",
        "outputId": "77ec7d1f-427f-448f-db9c-708ac1e457c2"
      },
      "execution_count": null,
      "outputs": [
        {
          "output_type": "stream",
          "name": "stdout",
          "text": [
            "Language code en\n",
            "Confidence 1\n"
          ]
        }
      ]
    },
    {
      "cell_type": "code",
      "source": [
        "filename='/content/chill.wav'\n",
        "import speech_recognition as sr\n",
        "r = sr.Recognizer()\n",
        "with sr.AudioFile(filename) as source:\n",
        "  audio_data = r.record(source,offset=2, duration = 30)\n",
        "text = r.recognize_google(audio_data,language='vi')\n",
        "print(text)"
      ],
      "metadata": {
        "id": "1SuwId-5mZNg"
      },
      "execution_count": null,
      "outputs": []
    }
  ]
}