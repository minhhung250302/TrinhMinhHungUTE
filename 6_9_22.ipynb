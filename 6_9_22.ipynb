{
  "nbformat": 4,
  "nbformat_minor": 0,
  "metadata": {
    "colab": {
      "provenance": [],
      "authorship_tag": "ABX9TyOubHJigSVN74ZlrFR4tQO7",
      "include_colab_link": true
    },
    "kernelspec": {
      "name": "python3",
      "display_name": "Python 3"
    },
    "language_info": {
      "name": "python"
    }
  },
  "cells": [
    {
      "cell_type": "markdown",
      "metadata": {
        "id": "view-in-github",
        "colab_type": "text"
      },
      "source": [
        "<a href=\"https://colab.research.google.com/github/minhhung250302/TrinhMinhHungUTE/blob/main/6_9_22.ipynb\" target=\"_parent\"><img src=\"https://colab.research.google.com/assets/colab-badge.svg\" alt=\"Open In Colab\"/></a>"
      ]
    },
    {
      "cell_type": "code",
      "execution_count": 1,
      "metadata": {
        "id": "H3IKuJfoUpkZ"
      },
      "outputs": [],
      "source": [
        "with open('text.txt',mode='w') as accounts :\n",
        " accounts.write('1 Nguyen Van A 8.0\\n')\n",
        " accounts.write('2 Le Thi B 6.8\\n') "
      ]
    },
    {
      "cell_type": "code",
      "source": [
        "from openpyxl import Workbook\n",
        "wb = Workbook()\n",
        "sheet=wb.active\n",
        "sheet['A1']='Tran Van Hau'\n",
        "sheet['B1']= '20104027'\n",
        "sheet['A2']= 'Le Quang Trieu'\n",
        "sheet['B2']= '20104056'\n",
        "wb.save('test.xlsx')"
      ],
      "metadata": {
        "id": "6vHTgh4pVSUs"
      },
      "execution_count": null,
      "outputs": []
    },
    {
      "cell_type": "code",
      "source": [
        "import pandas as pd\n",
        "\n",
        "dataframe = pd.read_csv('/content/test.xlsx')\n",
        "dataframe(10)"
      ],
      "metadata": {
        "id": "eoy4-2PWVS5d"
      },
      "execution_count": null,
      "outputs": []
    },
    {
      "cell_type": "code",
      "source": [
        "with open('text.txt',mode='w') as accounts :\n",
        "  print('7:00 BgytebVab A',file=accounts)\n",
        "  print('7:01 BgytebVab B',file=accounts)"
      ],
      "metadata": {
        "id": "aJV8Zk5oVXYk"
      },
      "execution_count": null,
      "outputs": []
    },
    {
      "cell_type": "code",
      "source": [
        "with open('text.txt',mode='r') as accounts :\n",
        "  print(f'{\"name\":<20}{\"score\":<20}')\n",
        "  for record in accounts:\n",
        "    name,score = record.split()\n",
        "    print(f'{name:<20}{score:>20}')"
      ],
      "metadata": {
        "id": "-OaUC8h_VY0F"
      },
      "execution_count": null,
      "outputs": []
    },
    {
      "cell_type": "code",
      "source": [
        "import pandas as pd\n",
        "dataframe=pd.DataFrame()\n",
        "dataframe['Name']=['Nguyen Van A','Le Thi B']\n",
        "dataframe['student IP']=[20104001,20104003]\n",
        "dataframe['score']=[8.0,9.0]\n",
        "dataframe"
      ],
      "metadata": {
        "id": "EZMGQTueVaZL"
      },
      "execution_count": null,
      "outputs": []
    },
    {
      "cell_type": "code",
      "source": [
        "import pandas as pd\n",
        "url = '/Dulieubai2.csv'\n",
        "dataframe = pd.read_csv(url)\n",
        "dataframe.head(7)"
      ],
      "metadata": {
        "id": "2m-QFsHRVcde"
      },
      "execution_count": null,
      "outputs": []
    },
    {
      "cell_type": "code",
      "source": [
        "import pandas as pd\n",
        "url = '/Dulieubai2.csv'\n",
        "dataframe = pd.read_csv(url)\n",
        "dataframe.iloc[2:8]"
      ],
      "metadata": {
        "id": "tSJTdz3ZVeZ0"
      },
      "execution_count": null,
      "outputs": []
    },
    {
      "cell_type": "code",
      "source": [
        "import pandas as pd\n",
        "url = '/Dulieubai3.csv'\n",
        "dataframe = pd.read_csv(url)\n",
        "dataframe[:7]"
      ],
      "metadata": {
        "id": "zA-qPHckVf2F"
      },
      "execution_count": null,
      "outputs": []
    },
    {
      "cell_type": "code",
      "source": [
        "import pandas as pd\n",
        "url = '/Book4.csv'\n",
        "dataframe = pd.read_csv(url)\n",
        "dataframe.head(10)\n",
        "dataframe[dataframe['khoa'] == 'CKM'].head(3)"
      ],
      "metadata": {
        "id": "SI6c45T0Vi2g"
      },
      "execution_count": null,
      "outputs": []
    },
    {
      "cell_type": "code",
      "source": [
        "import pandas as pd\n",
        "dataframe = pd.read_csv('/content/Book4.csv')\n",
        "dataframe.drop('ho va ten',axis=1)\n"
      ],
      "metadata": {
        "id": "hnOVB5fyVlAe"
      },
      "execution_count": null,
      "outputs": []
    },
    {
      "cell_type": "code",
      "source": [
        "import pandas as pd\n",
        "dataframe = pd.read_csv('/content/Book4.csv')\n",
        "dataframe.groupby('khoa').mean()\n"
      ],
      "metadata": {
        "id": "8Eshwxs4VnNU"
      },
      "execution_count": null,
      "outputs": []
    },
    {
      "cell_type": "code",
      "source": [
        "import pandas as pd\n",
        "url = 'http://winterolympicsmedals.com/medals.csv'\n",
        "data = pd.read_csv(url)\n",
        "data"
      ],
      "metadata": {
        "id": "tZ17pDOtVqFK"
      },
      "execution_count": null,
      "outputs": []
    },
    {
      "cell_type": "code",
      "source": [
        "from openpyxl import Workbook \n",
        "wb = Workbook()\n",
        "Sheet = wb.active\n",
        "Sheet['A1'] = 'Nguyen Van A'\n",
        "Sheet['B1'] = '20104001'\n",
        "Sheet['A2'] = 'Le Thi B'\n",
        "Sheet['B2'] = '20104002'\n",
        "Sheet['A3'] = 'Tran Van Quoc'\n",
        "Sheet['A4'] = 'Phạm Ngọc C'\n",
        "Sheet['B3'] = '20104003'\n",
        "Sheet['B4'] = '20104004'\n",
        "wb.save('test.xlsxx')\n"
      ],
      "metadata": {
        "id": "SIehfzI1VsiL"
      },
      "execution_count": null,
      "outputs": []
    },
    {
      "cell_type": "code",
      "source": [
        "import openpyxl \n",
        "t1 = openpyxl.Workbook()\n",
        "t2 = t1.active\n",
        "c1 =t2.cell(row=1,column=1)\n",
        "c1.value=\"Đặng Trí Dũng\"\n",
        "c2 = t2.cell(row=1,column=2)\n",
        "c2.value= \"Trịnh Đức Cường\"\n",
        "c3= t2['A2']\n",
        "c3.value = \"Ulsan\"\n",
        "c4= t2['B2']\n",
        "c4.value=\"Genovoa\"\n",
        "t1.save('Hung.xlsx')"
      ],
      "metadata": {
        "id": "YxWAi2g1VuYK"
      },
      "execution_count": null,
      "outputs": []
    }
  ]
}