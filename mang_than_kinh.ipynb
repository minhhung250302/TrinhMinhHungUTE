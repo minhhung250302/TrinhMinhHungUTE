{
  "nbformat": 4,
  "nbformat_minor": 0,
  "metadata": {
    "colab": {
      "provenance": [],
      "authorship_tag": "ABX9TyNl4nxTbBOAO8u+npUadtOQ",
      "include_colab_link": true
    },
    "kernelspec": {
      "name": "python3",
      "display_name": "Python 3"
    },
    "language_info": {
      "name": "python"
    }
  },
  "cells": [
    {
      "cell_type": "markdown",
      "metadata": {
        "id": "view-in-github",
        "colab_type": "text"
      },
      "source": [
        "<a href=\"https://colab.research.google.com/github/minhhung250302/TrinhMinhHungUTE/blob/main/mang_than_kinh.ipynb\" target=\"_parent\"><img src=\"https://colab.research.google.com/assets/colab-badge.svg\" alt=\"Open In Colab\"/></a>"
      ]
    },
    {
      "cell_type": "code",
      "execution_count": 1,
      "metadata": {
        "colab": {
          "base_uri": "https://localhost:8080/"
        },
        "id": "sZe_EBPrZ42o",
        "outputId": "3ce7d952-8a67-4ae0-848a-2150b919334a"
      },
      "outputs": [
        {
          "output_type": "stream",
          "name": "stdout",
          "text": [
            "chinh xac 1.0\n",
            "[0 1 1 1]\n"
          ]
        }
      ],
      "source": [
        "import numpy as np\n",
        "from sklearn.linear_model import Perceptron\n",
        "x=[0,0],[1,0],[0,1],[1,1]\n",
        "y=[0,1,1,1]\n",
        "model=Perceptron()\n",
        "model.fit(x,y)\n",
        "print('chinh xac', model.score(x,y))\n",
        "x_test=[[0.1,0],[0.9,0.2],[1,-0.4],[0.4,0.7]]\n",
        "y_test=model.predict(x_test)\n",
        "print(y_test)"
      ]
    },
    {
      "cell_type": "code",
      "source": [
        "import numpy as np\n",
        "from sklearn.linear_model import Perceptron\n",
        "from sklearn.model_selection import train_test_split\n",
        "import pandas as pd\n",
        "url= '/crabs.csv'\n",
        "data= pd.read_csv('crabs.csv')\n",
        "x = data.drop(['speies','sex','index'],axis = True)\n",
        "y = data['sex'].replace(['M','F'],[0,1])\n",
        "x_train, x_test, y_train, y_test = train_test_split(x,y,test_size = 0.4)\n",
        "model = Perceptron()\n",
        "model.fit(x_train,y_train)\n",
        "print(' chinh xac',model.score(x,y))\n",
        "x_test = [[6.4,4,12,11,9],[10.4,14.9,20,12.4,21.9]]\n",
        "y_test = model.predict(x_test)\n",
        "print(y_test)"
      ],
      "metadata": {
        "id": "-r67unk0aESh"
      },
      "execution_count": null,
      "outputs": []
    },
    {
      "cell_type": "code",
      "source": [
        "import pandas as pd\n",
        "import numpy as np\n",
        "from sklearn.linear_model import Perceptron\n",
        "from sklearn.model_selection import train_test_split\n",
        "from sklearn.datasets import load_iris\n",
        "iris = load_iris()\n",
        "#print (iris)\n",
        "for n, i in enumerate(iris.target):\n",
        "  if i == 2:\n",
        "    iris.target[n] = 1\n",
        "X = iris.data\n",
        "Y = iris.target\n",
        "X_train, X_test, Y_train, Y_test = train_test_split(X,Y,test_size = 0.5)\n",
        "model = Perceptron()\n",
        "model.fit(X_train,Y_train)\n",
        "print('accuracy',model.score(x_test,y_test))\n",
        "X_test = [[4,3,2,1],[4,5,3,1]]\n",
        "Y_test = model.predict(X_test)\n",
        "print(Y_test)"
      ],
      "metadata": {
        "id": "mihxa-FvaXOR"
      },
      "execution_count": null,
      "outputs": []
    }
  ]
}